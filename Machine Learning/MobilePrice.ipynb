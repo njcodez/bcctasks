{
  "nbformat": 4,
  "nbformat_minor": 0,
  "metadata": {
    "colab": {
      "provenance": [],
      "gpuType": "T4"
    },
    "kernelspec": {
      "name": "python3",
      "display_name": "Python 3"
    },
    "language_info": {
      "name": "python"
    },
    "accelerator": "GPU",
    "gpuClass": "standard"
  },
  "cells": [
    {
      "cell_type": "code",
      "execution_count": 14,
      "metadata": {
        "id": "khJinQ1Vh-zL"
      },
      "outputs": [],
      "source": [
        "import pandas as pd\n",
        "import numpy as np\n",
        "import matplotlib.pyplot as plt\n",
        "import seaborn as sns\n",
        "from sklearn.metrics import accuracy_score\n",
        "from sklearn.model_selection import train_test_split\n",
        "from sklearn.preprocessing import StandardScaler\n",
        "from sklearn.linear_model import LogisticRegression\n",
        "from sklearn.linear_model import LinearRegression\n",
        "%matplotlib inline"
      ]
    },
    {
      "cell_type": "code",
      "source": [
        "data=pd.read_csv('train.csv')"
      ],
      "metadata": {
        "id": "i5QftQ10iLTd"
      },
      "execution_count": 3,
      "outputs": []
    },
    {
      "cell_type": "code",
      "source": [
        "data.head()"
      ],
      "metadata": {
        "colab": {
          "base_uri": "https://localhost:8080/",
          "height": 299
        },
        "id": "-bJ8SiZUiNDm",
        "outputId": "400eea63-2e7e-4bd9-ba61-b66982247d45"
      },
      "execution_count": 4,
      "outputs": [
        {
          "output_type": "execute_result",
          "data": {
            "text/plain": [
              "   battery_power  blue  clock_speed  dual_sim  fc  four_g  int_memory  m_dep  \\\n",
              "0            842     0          2.2         0   1       0           7    0.6   \n",
              "1           1021     1          0.5         1   0       1          53    0.7   \n",
              "2            563     1          0.5         1   2       1          41    0.9   \n",
              "3            615     1          2.5         0   0       0          10    0.8   \n",
              "4           1821     1          1.2         0  13       1          44    0.6   \n",
              "\n",
              "   mobile_wt  n_cores  ...  px_height  px_width   ram  sc_h  sc_w  talk_time  \\\n",
              "0        188        2  ...         20       756  2549     9     7         19   \n",
              "1        136        3  ...        905      1988  2631    17     3          7   \n",
              "2        145        5  ...       1263      1716  2603    11     2          9   \n",
              "3        131        6  ...       1216      1786  2769    16     8         11   \n",
              "4        141        2  ...       1208      1212  1411     8     2         15   \n",
              "\n",
              "   three_g  touch_screen  wifi  price_range  \n",
              "0        0             0     1            1  \n",
              "1        1             1     0            2  \n",
              "2        1             1     0            2  \n",
              "3        1             0     0            2  \n",
              "4        1             1     0            1  \n",
              "\n",
              "[5 rows x 21 columns]"
            ],
            "text/html": [
              "\n",
              "  <div id=\"df-4f567e83-4c66-4f49-a19e-a9dafdc52958\">\n",
              "    <div class=\"colab-df-container\">\n",
              "      <div>\n",
              "<style scoped>\n",
              "    .dataframe tbody tr th:only-of-type {\n",
              "        vertical-align: middle;\n",
              "    }\n",
              "\n",
              "    .dataframe tbody tr th {\n",
              "        vertical-align: top;\n",
              "    }\n",
              "\n",
              "    .dataframe thead th {\n",
              "        text-align: right;\n",
              "    }\n",
              "</style>\n",
              "<table border=\"1\" class=\"dataframe\">\n",
              "  <thead>\n",
              "    <tr style=\"text-align: right;\">\n",
              "      <th></th>\n",
              "      <th>battery_power</th>\n",
              "      <th>blue</th>\n",
              "      <th>clock_speed</th>\n",
              "      <th>dual_sim</th>\n",
              "      <th>fc</th>\n",
              "      <th>four_g</th>\n",
              "      <th>int_memory</th>\n",
              "      <th>m_dep</th>\n",
              "      <th>mobile_wt</th>\n",
              "      <th>n_cores</th>\n",
              "      <th>...</th>\n",
              "      <th>px_height</th>\n",
              "      <th>px_width</th>\n",
              "      <th>ram</th>\n",
              "      <th>sc_h</th>\n",
              "      <th>sc_w</th>\n",
              "      <th>talk_time</th>\n",
              "      <th>three_g</th>\n",
              "      <th>touch_screen</th>\n",
              "      <th>wifi</th>\n",
              "      <th>price_range</th>\n",
              "    </tr>\n",
              "  </thead>\n",
              "  <tbody>\n",
              "    <tr>\n",
              "      <th>0</th>\n",
              "      <td>842</td>\n",
              "      <td>0</td>\n",
              "      <td>2.2</td>\n",
              "      <td>0</td>\n",
              "      <td>1</td>\n",
              "      <td>0</td>\n",
              "      <td>7</td>\n",
              "      <td>0.6</td>\n",
              "      <td>188</td>\n",
              "      <td>2</td>\n",
              "      <td>...</td>\n",
              "      <td>20</td>\n",
              "      <td>756</td>\n",
              "      <td>2549</td>\n",
              "      <td>9</td>\n",
              "      <td>7</td>\n",
              "      <td>19</td>\n",
              "      <td>0</td>\n",
              "      <td>0</td>\n",
              "      <td>1</td>\n",
              "      <td>1</td>\n",
              "    </tr>\n",
              "    <tr>\n",
              "      <th>1</th>\n",
              "      <td>1021</td>\n",
              "      <td>1</td>\n",
              "      <td>0.5</td>\n",
              "      <td>1</td>\n",
              "      <td>0</td>\n",
              "      <td>1</td>\n",
              "      <td>53</td>\n",
              "      <td>0.7</td>\n",
              "      <td>136</td>\n",
              "      <td>3</td>\n",
              "      <td>...</td>\n",
              "      <td>905</td>\n",
              "      <td>1988</td>\n",
              "      <td>2631</td>\n",
              "      <td>17</td>\n",
              "      <td>3</td>\n",
              "      <td>7</td>\n",
              "      <td>1</td>\n",
              "      <td>1</td>\n",
              "      <td>0</td>\n",
              "      <td>2</td>\n",
              "    </tr>\n",
              "    <tr>\n",
              "      <th>2</th>\n",
              "      <td>563</td>\n",
              "      <td>1</td>\n",
              "      <td>0.5</td>\n",
              "      <td>1</td>\n",
              "      <td>2</td>\n",
              "      <td>1</td>\n",
              "      <td>41</td>\n",
              "      <td>0.9</td>\n",
              "      <td>145</td>\n",
              "      <td>5</td>\n",
              "      <td>...</td>\n",
              "      <td>1263</td>\n",
              "      <td>1716</td>\n",
              "      <td>2603</td>\n",
              "      <td>11</td>\n",
              "      <td>2</td>\n",
              "      <td>9</td>\n",
              "      <td>1</td>\n",
              "      <td>1</td>\n",
              "      <td>0</td>\n",
              "      <td>2</td>\n",
              "    </tr>\n",
              "    <tr>\n",
              "      <th>3</th>\n",
              "      <td>615</td>\n",
              "      <td>1</td>\n",
              "      <td>2.5</td>\n",
              "      <td>0</td>\n",
              "      <td>0</td>\n",
              "      <td>0</td>\n",
              "      <td>10</td>\n",
              "      <td>0.8</td>\n",
              "      <td>131</td>\n",
              "      <td>6</td>\n",
              "      <td>...</td>\n",
              "      <td>1216</td>\n",
              "      <td>1786</td>\n",
              "      <td>2769</td>\n",
              "      <td>16</td>\n",
              "      <td>8</td>\n",
              "      <td>11</td>\n",
              "      <td>1</td>\n",
              "      <td>0</td>\n",
              "      <td>0</td>\n",
              "      <td>2</td>\n",
              "    </tr>\n",
              "    <tr>\n",
              "      <th>4</th>\n",
              "      <td>1821</td>\n",
              "      <td>1</td>\n",
              "      <td>1.2</td>\n",
              "      <td>0</td>\n",
              "      <td>13</td>\n",
              "      <td>1</td>\n",
              "      <td>44</td>\n",
              "      <td>0.6</td>\n",
              "      <td>141</td>\n",
              "      <td>2</td>\n",
              "      <td>...</td>\n",
              "      <td>1208</td>\n",
              "      <td>1212</td>\n",
              "      <td>1411</td>\n",
              "      <td>8</td>\n",
              "      <td>2</td>\n",
              "      <td>15</td>\n",
              "      <td>1</td>\n",
              "      <td>1</td>\n",
              "      <td>0</td>\n",
              "      <td>1</td>\n",
              "    </tr>\n",
              "  </tbody>\n",
              "</table>\n",
              "<p>5 rows × 21 columns</p>\n",
              "</div>\n",
              "      <button class=\"colab-df-convert\" onclick=\"convertToInteractive('df-4f567e83-4c66-4f49-a19e-a9dafdc52958')\"\n",
              "              title=\"Convert this dataframe to an interactive table.\"\n",
              "              style=\"display:none;\">\n",
              "        \n",
              "  <svg xmlns=\"http://www.w3.org/2000/svg\" height=\"24px\"viewBox=\"0 0 24 24\"\n",
              "       width=\"24px\">\n",
              "    <path d=\"M0 0h24v24H0V0z\" fill=\"none\"/>\n",
              "    <path d=\"M18.56 5.44l.94 2.06.94-2.06 2.06-.94-2.06-.94-.94-2.06-.94 2.06-2.06.94zm-11 1L8.5 8.5l.94-2.06 2.06-.94-2.06-.94L8.5 2.5l-.94 2.06-2.06.94zm10 10l.94 2.06.94-2.06 2.06-.94-2.06-.94-.94-2.06-.94 2.06-2.06.94z\"/><path d=\"M17.41 7.96l-1.37-1.37c-.4-.4-.92-.59-1.43-.59-.52 0-1.04.2-1.43.59L10.3 9.45l-7.72 7.72c-.78.78-.78 2.05 0 2.83L4 21.41c.39.39.9.59 1.41.59.51 0 1.02-.2 1.41-.59l7.78-7.78 2.81-2.81c.8-.78.8-2.07 0-2.86zM5.41 20L4 18.59l7.72-7.72 1.47 1.35L5.41 20z\"/>\n",
              "  </svg>\n",
              "      </button>\n",
              "      \n",
              "  <style>\n",
              "    .colab-df-container {\n",
              "      display:flex;\n",
              "      flex-wrap:wrap;\n",
              "      gap: 12px;\n",
              "    }\n",
              "\n",
              "    .colab-df-convert {\n",
              "      background-color: #E8F0FE;\n",
              "      border: none;\n",
              "      border-radius: 50%;\n",
              "      cursor: pointer;\n",
              "      display: none;\n",
              "      fill: #1967D2;\n",
              "      height: 32px;\n",
              "      padding: 0 0 0 0;\n",
              "      width: 32px;\n",
              "    }\n",
              "\n",
              "    .colab-df-convert:hover {\n",
              "      background-color: #E2EBFA;\n",
              "      box-shadow: 0px 1px 2px rgba(60, 64, 67, 0.3), 0px 1px 3px 1px rgba(60, 64, 67, 0.15);\n",
              "      fill: #174EA6;\n",
              "    }\n",
              "\n",
              "    [theme=dark] .colab-df-convert {\n",
              "      background-color: #3B4455;\n",
              "      fill: #D2E3FC;\n",
              "    }\n",
              "\n",
              "    [theme=dark] .colab-df-convert:hover {\n",
              "      background-color: #434B5C;\n",
              "      box-shadow: 0px 1px 3px 1px rgba(0, 0, 0, 0.15);\n",
              "      filter: drop-shadow(0px 1px 2px rgba(0, 0, 0, 0.3));\n",
              "      fill: #FFFFFF;\n",
              "    }\n",
              "  </style>\n",
              "\n",
              "      <script>\n",
              "        const buttonEl =\n",
              "          document.querySelector('#df-4f567e83-4c66-4f49-a19e-a9dafdc52958 button.colab-df-convert');\n",
              "        buttonEl.style.display =\n",
              "          google.colab.kernel.accessAllowed ? 'block' : 'none';\n",
              "\n",
              "        async function convertToInteractive(key) {\n",
              "          const element = document.querySelector('#df-4f567e83-4c66-4f49-a19e-a9dafdc52958');\n",
              "          const dataTable =\n",
              "            await google.colab.kernel.invokeFunction('convertToInteractive',\n",
              "                                                     [key], {});\n",
              "          if (!dataTable) return;\n",
              "\n",
              "          const docLinkHtml = 'Like what you see? Visit the ' +\n",
              "            '<a target=\"_blank\" href=https://colab.research.google.com/notebooks/data_table.ipynb>data table notebook</a>'\n",
              "            + ' to learn more about interactive tables.';\n",
              "          element.innerHTML = '';\n",
              "          dataTable['output_type'] = 'display_data';\n",
              "          await google.colab.output.renderOutput(dataTable, element);\n",
              "          const docLink = document.createElement('div');\n",
              "          docLink.innerHTML = docLinkHtml;\n",
              "          element.appendChild(docLink);\n",
              "        }\n",
              "      </script>\n",
              "    </div>\n",
              "  </div>\n",
              "  "
            ]
          },
          "metadata": {},
          "execution_count": 4
        }
      ]
    },
    {
      "cell_type": "markdown",
      "source": [
        "##**Data Visualization**"
      ],
      "metadata": {
        "id": "LGF0VQ5bjEFm"
      }
    },
    {
      "cell_type": "code",
      "source": [
        "sns.pointplot(y=\"int_memory\", x=\"price_range\", data=data)"
      ],
      "metadata": {
        "colab": {
          "base_uri": "https://localhost:8080/",
          "height": 468
        },
        "id": "eshVxBXiiTkV",
        "outputId": "e4255a60-de7c-4e89-a5a4-26fb15bcd1ac"
      },
      "execution_count": 25,
      "outputs": [
        {
          "output_type": "execute_result",
          "data": {
            "text/plain": [
              "<Axes: xlabel='price_range', ylabel='int_memory'>"
            ]
          },
          "metadata": {},
          "execution_count": 25
        },
        {
          "output_type": "display_data",
          "data": {
            "text/plain": [
              "<Figure size 640x480 with 1 Axes>"
            ],
            "image/png": "[encoded data removed]"
          },
          "metadata": {}
        }
      ]
    },
    {
      "cell_type": "code",
      "source": [
        "sns.boxplot(x=\"price_range\", y=\"battery_power\", data=data)"
      ],
      "metadata": {
        "colab": {
          "base_uri": "https://localhost:8080/",
          "height": 468
        },
        "id": "4I5ZFAy0iY_V",
        "outputId": "f1a4fff8-f126-4c30-c06b-4d7942f0f505"
      },
      "execution_count": 26,
      "outputs": [
        {
          "output_type": "execute_result",
          "data": {
            "text/plain": [
              "<Axes: xlabel='price_range', ylabel='battery_power'>"
            ]
          },
          "metadata": {},
          "execution_count": 26
        },
        {
          "output_type": "display_data",
          "data": {
            "text/plain": [
              "<Figure size 640x480 with 1 Axes>"
            ],
            "image/png": "[encoded data removed]"
          },
          "metadata": {}
        }
      ]
    },
    {
      "cell_type": "markdown",
      "source": [
        "## **Classification Problem**"
      ],
      "metadata": {
        "id": "4koInXq2jOXj"
      }
    },
    {
      "cell_type": "code",
      "source": [
        "x = data.iloc[:, :-1].values\n",
        "y = data.iloc[:, -1].values\n",
        "x = StandardScaler().fit_transform(x)\n",
        "x_train, x_test, y_train, y_test = train_test_split(x, y, test_size=0.20, random_state=0)"
      ],
      "metadata": {
        "id": "kXa8FmRakCsc"
      },
      "execution_count": 6,
      "outputs": []
    },
    {
      "cell_type": "code",
      "source": [
        "from sklearn.linear_model import LogisticRegression\n",
        "lreg = LogisticRegression()\n",
        "lreg.fit(x_train, y_train)\n",
        "y_pred = lreg.predict(x_test)"
      ],
      "metadata": {
        "id": "4KWLwWuejWor"
      },
      "execution_count": 7,
      "outputs": []
    },
    {
      "cell_type": "code",
      "source": [
        "accuracy = accuracy_score(y_test, y_pred) * 100\n",
        "print(\"Accuracy of the Logistic Regression Model: \",accuracy)"
      ],
      "metadata": {
        "colab": {
          "base_uri": "https://localhost:8080/"
        },
        "id": "GcdyMV1Ljc7s",
        "outputId": "d2c9d7f2-d218-4341-a663-d78b762261a7"
      },
      "execution_count": 8,
      "outputs": [
        {
          "output_type": "stream",
          "name": "stdout",
          "text": [
            "Accuracy of the Logistic Regression Model:  95.5\n"
          ]
        }
      ]
    },
    {
      "cell_type": "code",
      "source": [
        "print(y_pred)"
      ],
      "metadata": {
        "colab": {
          "base_uri": "https://localhost:8080/"
        },
        "id": "Ef2hICxvjgvM",
        "outputId": "f5bb2698-2eea-45a7-dc31-61524580966b"
      },
      "execution_count": 9,
      "outputs": [
        {
          "output_type": "stream",
          "name": "stdout",
          "text": [
            "[3 0 2 2 3 0 0 3 3 1 1 3 0 2 3 0 3 2 2 1 0 0 3 1 2 2 3 1 3 1 1 0 2 0 2 3 0\n",
            " 0 3 3 3 1 3 3 1 3 0 1 3 1 1 3 0 3 0 2 2 2 0 3 3 1 3 2 1 2 3 2 2 2 3 2 1 0\n",
            " 1 3 2 2 1 2 3 3 3 0 0 0 2 1 2 3 1 2 2 1 0 3 3 3 0 3 1 1 3 1 3 2 2 3 2 3 3\n",
            " 0 0 1 3 3 0 0 1 0 0 3 2 2 1 2 1 1 0 2 1 3 3 3 3 3 3 2 0 1 1 2 1 3 0 3 0 0\n",
            " 2 0 1 1 1 1 3 0 0 3 1 3 2 1 3 1 2 3 3 2 1 0 3 1 2 3 3 0 2 2 3 1 2 1 0 1 2\n",
            " 2 2 0 3 3 1 1 0 2 3 0 1 2 2 0 3 3 3 1 2 3 3 3 0 0 0 2 3 3 0 0 1 3 2 3 3 3\n",
            " 0 0 2 3 3 1 0 2 0 0 0 3 2 1 2 2 1 1 0 2 3 3 0 0 1 3 3 1 3 0 3 1 1 0 2 3 3\n",
            " 2 0 0 1 2 3 2 2 3 2 1 0 3 3 2 1 3 2 2 2 1 0 2 2 1 0 0 2 2 2 3 0 1 3 0 2 2\n",
            " 3 0 2 0 1 1 3 0 0 2 3 1 2 0 2 0 3 0 3 3 2 3 1 2 2 1 1 1 0 1 0 3 1 0 3 0 0\n",
            " 1 3 0 3 1 1 0 1 3 0 2 1 1 2 1 1 0 2 0 0 3 1 2 3 2 2 0 3 2 2 1 3 2 3 3 3 0\n",
            " 2 0 3 0 1 1 2 3 1 3 1 2 0 1 2 3 0 0 1 3 0 3 0 2 2 1 1 0 2 0]\n"
          ]
        }
      ]
    },
    {
      "cell_type": "markdown",
      "source": [
        "## **Training and testing prediction models**"
      ],
      "metadata": {
        "id": "tyZyJNNvlRFZ"
      }
    },
    {
      "cell_type": "markdown",
      "source": [
        "### *Linear Regression, Logistic regression and decision tree classfier models are tested and compared*"
      ],
      "metadata": {
        "id": "0G-94WnSlmT8"
      }
    },
    {
      "cell_type": "markdown",
      "source": [
        "#### Decision Tree"
      ],
      "metadata": {
        "id": "i1rOirobn7wm"
      }
    },
    {
      "cell_type": "code",
      "source": [
        "from sklearn.tree import DecisionTreeClassifier\n",
        "dtree = DecisionTreeClassifier()"
      ],
      "metadata": {
        "id": "BQ7dRJrwlQPp"
      },
      "execution_count": 10,
      "outputs": []
    },
    {
      "cell_type": "code",
      "source": [
        "dtree.fit(x_train,y_train)"
      ],
      "metadata": {
        "colab": {
          "base_uri": "https://localhost:8080/",
          "height": 74
        },
        "id": "9JLvZSm5oJVF",
        "outputId": "5a34d49b-fa4b-4db2-9c8f-e7757de7309e"
      },
      "execution_count": 11,
      "outputs": [
        {
          "output_type": "execute_result",
          "data": {
            "text/plain": [
              "DecisionTreeClassifier()"
            ],
            "text/html": [
              "<style>#sk-container-id-1 {color: black;background-color: white;}#sk-container-id-1 pre{padding: 0;}#sk-container-id-1 div.sk-toggleable {background-color: white;}#sk-container-id-1 label.sk-toggleable__label {cursor: pointer;display: block;width: 100%;margin-bottom: 0;padding: 0.3em;box-sizing: border-box;text-align: center;}#sk-container-id-1 label.sk-toggleable__label-arrow:before {content: \"▸\";float: left;margin-right: 0.25em;color: #696969;}#sk-container-id-1 label.sk-toggleable__label-arrow:hover:before {color: black;}#sk-container-id-1 div.sk-estimator:hover label.sk-toggleable__label-arrow:before {color: black;}#sk-container-id-1 div.sk-toggleable__content {max-height: 0;max-width: 0;overflow: hidden;text-align: left;background-color: #f0f8ff;}#sk-container-id-1 div.sk-toggleable__content pre {margin: 0.2em;color: black;border-radius: 0.25em;background-color: #f0f8ff;}#sk-container-id-1 input.sk-toggleable__control:checked~div.sk-toggleable__content {max-height: 200px;max-width: 100%;overflow: auto;}#sk-container-id-1 input.sk-toggleable__control:checked~label.sk-toggleable__label-arrow:before {content: \"▾\";}#sk-container-id-1 div.sk-estimator input.sk-toggleable__control:checked~label.sk-toggleable__label {background-color: #d4ebff;}#sk-container-id-1 div.sk-label input.sk-toggleable__control:checked~label.sk-toggleable__label {background-color: #d4ebff;}#sk-container-id-1 input.sk-hidden--visually {border: 0;clip: rect(1px 1px 1px 1px);clip: rect(1px, 1px, 1px, 1px);height: 1px;margin: -1px;overflow: hidden;padding: 0;position: absolute;width: 1px;}#sk-container-id-1 div.sk-estimator {font-family: monospace;background-color: #f0f8ff;border: 1px dotted black;border-radius: 0.25em;box-sizing: border-box;margin-bottom: 0.5em;}#sk-container-id-1 div.sk-estimator:hover {background-color: #d4ebff;}#sk-container-id-1 div.sk-parallel-item::after {content: \"\";width: 100%;border-bottom: 1px solid gray;flex-grow: 1;}#sk-container-id-1 div.sk-label:hover label.sk-toggleable__label {background-color: #d4ebff;}#sk-container-id-1 div.sk-serial::before {content: \"\";position: absolute;border-left: 1px solid gray;box-sizing: border-box;top: 0;bottom: 0;left: 50%;z-index: 0;}#sk-container-id-1 div.sk-serial {display: flex;flex-direction: column;align-items: center;background-color: white;padding-right: 0.2em;padding-left: 0.2em;position: relative;}#sk-container-id-1 div.sk-item {position: relative;z-index: 1;}#sk-container-id-1 div.sk-parallel {display: flex;align-items: stretch;justify-content: center;background-color: white;position: relative;}#sk-container-id-1 div.sk-item::before, #sk-container-id-1 div.sk-parallel-item::before {content: \"\";position: absolute;border-left: 1px solid gray;box-sizing: border-box;top: 0;bottom: 0;left: 50%;z-index: -1;}#sk-container-id-1 div.sk-parallel-item {display: flex;flex-direction: column;z-index: 1;position: relative;background-color: white;}#sk-container-id-1 div.sk-parallel-item:first-child::after {align-self: flex-end;width: 50%;}#sk-container-id-1 div.sk-parallel-item:last-child::after {align-self: flex-start;width: 50%;}#sk-container-id-1 div.sk-parallel-item:only-child::after {width: 0;}#sk-container-id-1 div.sk-dashed-wrapped {border: 1px dashed gray;margin: 0 0.4em 0.5em 0.4em;box-sizing: border-box;padding-bottom: 0.4em;background-color: white;}#sk-container-id-1 div.sk-label label {font-family: monospace;font-weight: bold;display: inline-block;line-height: 1.2em;}#sk-container-id-1 div.sk-label-container {text-align: center;}#sk-container-id-1 div.sk-container {/* jupyter's `normalize.less` sets `[hidden] { display: none; }` but bootstrap.min.css set `[hidden] { display: none !important; }` so we also need the `!important` here to be able to override the default hidden behavior on the sphinx rendered scikit-learn.org. See: https://github.com/scikit-learn/scikit-learn/issues/21755 */display: inline-block !important;position: relative;}#sk-container-id-1 div.sk-text-repr-fallback {display: none;}</style><div id=\"sk-container-id-1\" class=\"sk-top-container\"><div class=\"sk-text-repr-fallback\"><pre>DecisionTreeClassifier()</pre><b>In a Jupyter environment, please rerun this cell to show the HTML representation or trust the notebook. <br />On GitHub, the HTML representation is unable to render, please try loading this page with nbviewer.org.</b></div><div class=\"sk-container\" hidden><div class=\"sk-item\"><div class=\"sk-estimator sk-toggleable\"><input class=\"sk-toggleable__control sk-hidden--visually\" id=\"sk-estimator-id-1\" type=\"checkbox\" checked><label for=\"sk-estimator-id-1\" class=\"sk-toggleable__label sk-toggleable__label-arrow\">DecisionTreeClassifier</label><div class=\"sk-toggleable__content\"><pre>DecisionTreeClassifier()</pre></div></div></div></div></div>"
            ]
          },
          "metadata": {},
          "execution_count": 11
        }
      ]
    },
    {
      "cell_type": "code",
      "source": [
        "dtree.score(x_test,y_test)"
      ],
      "metadata": {
        "colab": {
          "base_uri": "https://localhost:8080/"
        },
        "id": "977nqGKZoWkF",
        "outputId": "955a134a-973c-4098-b2db-661e3e830abb"
      },
      "execution_count": 13,
      "outputs": [
        {
          "output_type": "execute_result",
          "data": {
            "text/plain": [
              "0.83"
            ]
          },
          "metadata": {},
          "execution_count": 13
        }
      ]
    },
    {
      "cell_type": "markdown",
      "source": [
        "#### Linear Regression"
      ],
      "metadata": {
        "id": "BzCEZnJAok4M"
      }
    },
    {
      "cell_type": "code",
      "source": [
        "lm = LinearRegression()\n",
        "lm.fit(x_train,y_train)"
      ],
      "metadata": {
        "colab": {
          "base_uri": "https://localhost:8080/",
          "height": 74
        },
        "id": "ShidXdsWoqxE",
        "outputId": "a3391b28-e5cd-41ce-f565-475f7c8acc29"
      },
      "execution_count": 15,
      "outputs": [
        {
          "output_type": "execute_result",
          "data": {
            "text/plain": [
              "LinearRegression()"
            ],
            "text/html": [
              "<style>#sk-container-id-2 {color: black;background-color: white;}#sk-container-id-2 pre{padding: 0;}#sk-container-id-2 div.sk-toggleable {background-color: white;}#sk-container-id-2 label.sk-toggleable__label {cursor: pointer;display: block;width: 100%;margin-bottom: 0;padding: 0.3em;box-sizing: border-box;text-align: center;}#sk-container-id-2 label.sk-toggleable__label-arrow:before {content: \"▸\";float: left;margin-right: 0.25em;color: #696969;}#sk-container-id-2 label.sk-toggleable__label-arrow:hover:before {color: black;}#sk-container-id-2 div.sk-estimator:hover label.sk-toggleable__label-arrow:before {color: black;}#sk-container-id-2 div.sk-toggleable__content {max-height: 0;max-width: 0;overflow: hidden;text-align: left;background-color: #f0f8ff;}#sk-container-id-2 div.sk-toggleable__content pre {margin: 0.2em;color: black;border-radius: 0.25em;background-color: #f0f8ff;}#sk-container-id-2 input.sk-toggleable__control:checked~div.sk-toggleable__content {max-height: 200px;max-width: 100%;overflow: auto;}#sk-container-id-2 input.sk-toggleable__control:checked~label.sk-toggleable__label-arrow:before {content: \"▾\";}#sk-container-id-2 div.sk-estimator input.sk-toggleable__control:checked~label.sk-toggleable__label {background-color: #d4ebff;}#sk-container-id-2 div.sk-label input.sk-toggleable__control:checked~label.sk-toggleable__label {background-color: #d4ebff;}#sk-container-id-2 input.sk-hidden--visually {border: 0;clip: rect(1px 1px 1px 1px);clip: rect(1px, 1px, 1px, 1px);height: 1px;margin: -1px;overflow: hidden;padding: 0;position: absolute;width: 1px;}#sk-container-id-2 div.sk-estimator {font-family: monospace;background-color: #f0f8ff;border: 1px dotted black;border-radius: 0.25em;box-sizing: border-box;margin-bottom: 0.5em;}#sk-container-id-2 div.sk-estimator:hover {background-color: #d4ebff;}#sk-container-id-2 div.sk-parallel-item::after {content: \"\";width: 100%;border-bottom: 1px solid gray;flex-grow: 1;}#sk-container-id-2 div.sk-label:hover label.sk-toggleable__label {background-color: #d4ebff;}#sk-container-id-2 div.sk-serial::before {content: \"\";position: absolute;border-left: 1px solid gray;box-sizing: border-box;top: 0;bottom: 0;left: 50%;z-index: 0;}#sk-container-id-2 div.sk-serial {display: flex;flex-direction: column;align-items: center;background-color: white;padding-right: 0.2em;padding-left: 0.2em;position: relative;}#sk-container-id-2 div.sk-item {position: relative;z-index: 1;}#sk-container-id-2 div.sk-parallel {display: flex;align-items: stretch;justify-content: center;background-color: white;position: relative;}#sk-container-id-2 div.sk-item::before, #sk-container-id-2 div.sk-parallel-item::before {content: \"\";position: absolute;border-left: 1px solid gray;box-sizing: border-box;top: 0;bottom: 0;left: 50%;z-index: -1;}#sk-container-id-2 div.sk-parallel-item {display: flex;flex-direction: column;z-index: 1;position: relative;background-color: white;}#sk-container-id-2 div.sk-parallel-item:first-child::after {align-self: flex-end;width: 50%;}#sk-container-id-2 div.sk-parallel-item:last-child::after {align-self: flex-start;width: 50%;}#sk-container-id-2 div.sk-parallel-item:only-child::after {width: 0;}#sk-container-id-2 div.sk-dashed-wrapped {border: 1px dashed gray;margin: 0 0.4em 0.5em 0.4em;box-sizing: border-box;padding-bottom: 0.4em;background-color: white;}#sk-container-id-2 div.sk-label label {font-family: monospace;font-weight: bold;display: inline-block;line-height: 1.2em;}#sk-container-id-2 div.sk-label-container {text-align: center;}#sk-container-id-2 div.sk-container {/* jupyter's `normalize.less` sets `[hidden] { display: none; }` but bootstrap.min.css set `[hidden] { display: none !important; }` so we also need the `!important` here to be able to override the default hidden behavior on the sphinx rendered scikit-learn.org. See: https://github.com/scikit-learn/scikit-learn/issues/21755 */display: inline-block !important;position: relative;}#sk-container-id-2 div.sk-text-repr-fallback {display: none;}</style><div id=\"sk-container-id-2\" class=\"sk-top-container\"><div class=\"sk-text-repr-fallback\"><pre>LinearRegression()</pre><b>In a Jupyter environment, please rerun this cell to show the HTML representation or trust the notebook. <br />On GitHub, the HTML representation is unable to render, please try loading this page with nbviewer.org.</b></div><div class=\"sk-container\" hidden><div class=\"sk-item\"><div class=\"sk-estimator sk-toggleable\"><input class=\"sk-toggleable__control sk-hidden--visually\" id=\"sk-estimator-id-2\" type=\"checkbox\" checked><label for=\"sk-estimator-id-2\" class=\"sk-toggleable__label sk-toggleable__label-arrow\">LinearRegression</label><div class=\"sk-toggleable__content\"><pre>LinearRegression()</pre></div></div></div></div></div>"
            ]
          },
          "metadata": {},
          "execution_count": 15
        }
      ]
    },
    {
      "cell_type": "code",
      "source": [
        "lm.score(x_test,y_test)"
      ],
      "metadata": {
        "colab": {
          "base_uri": "https://localhost:8080/"
        },
        "id": "HofZ_rZJo9r2",
        "outputId": "3314bff5-098e-4570-b16b-5e3fdb6dcb6f"
      },
      "execution_count": 17,
      "outputs": [
        {
          "output_type": "execute_result",
          "data": {
            "text/plain": [
              "0.9210479879371704"
            ]
          },
          "metadata": {},
          "execution_count": 17
        }
      ]
    },
    {
      "cell_type": "markdown",
      "source": [
        "#### Logistic Regression"
      ],
      "metadata": {
        "id": "eLS72EXxpNPD"
      }
    },
    {
      "cell_type": "code",
      "source": [
        "logmodel = LogisticRegression()\n",
        "logmodel.fit(x_train,y_train)"
      ],
      "metadata": {
        "colab": {
          "base_uri": "https://localhost:8080/",
          "height": 74
        },
        "id": "JPMgo0QlpS8z",
        "outputId": "f82c2319-3834-4037-df9f-761ba9b42719"
      },
      "execution_count": 18,
      "outputs": [
        {
          "output_type": "execute_result",
          "data": {
            "text/plain": [
              "LogisticRegression()"
            ],
            "text/html": [
              "<style>#sk-container-id-3 {color: black;background-color: white;}#sk-container-id-3 pre{padding: 0;}#sk-container-id-3 div.sk-toggleable {background-color: white;}#sk-container-id-3 label.sk-toggleable__label {cursor: pointer;display: block;width: 100%;margin-bottom: 0;padding: 0.3em;box-sizing: border-box;text-align: center;}#sk-container-id-3 label.sk-toggleable__label-arrow:before {content: \"▸\";float: left;margin-right: 0.25em;color: #696969;}#sk-container-id-3 label.sk-toggleable__label-arrow:hover:before {color: black;}#sk-container-id-3 div.sk-estimator:hover label.sk-toggleable__label-arrow:before {color: black;}#sk-container-id-3 div.sk-toggleable__content {max-height: 0;max-width: 0;overflow: hidden;text-align: left;background-color: #f0f8ff;}#sk-container-id-3 div.sk-toggleable__content pre {margin: 0.2em;color: black;border-radius: 0.25em;background-color: #f0f8ff;}#sk-container-id-3 input.sk-toggleable__control:checked~div.sk-toggleable__content {max-height: 200px;max-width: 100%;overflow: auto;}#sk-container-id-3 input.sk-toggleable__control:checked~label.sk-toggleable__label-arrow:before {content: \"▾\";}#sk-container-id-3 div.sk-estimator input.sk-toggleable__control:checked~label.sk-toggleable__label {background-color: #d4ebff;}#sk-container-id-3 div.sk-label input.sk-toggleable__control:checked~label.sk-toggleable__label {background-color: #d4ebff;}#sk-container-id-3 input.sk-hidden--visually {border: 0;clip: rect(1px 1px 1px 1px);clip: rect(1px, 1px, 1px, 1px);height: 1px;margin: -1px;overflow: hidden;padding: 0;position: absolute;width: 1px;}#sk-container-id-3 div.sk-estimator {font-family: monospace;background-color: #f0f8ff;border: 1px dotted black;border-radius: 0.25em;box-sizing: border-box;margin-bottom: 0.5em;}#sk-container-id-3 div.sk-estimator:hover {background-color: #d4ebff;}#sk-container-id-3 div.sk-parallel-item::after {content: \"\";width: 100%;border-bottom: 1px solid gray;flex-grow: 1;}#sk-container-id-3 div.sk-label:hover label.sk-toggleable__label {background-color: #d4ebff;}#sk-container-id-3 div.sk-serial::before {content: \"\";position: absolute;border-left: 1px solid gray;box-sizing: border-box;top: 0;bottom: 0;left: 50%;z-index: 0;}#sk-container-id-3 div.sk-serial {display: flex;flex-direction: column;align-items: center;background-color: white;padding-right: 0.2em;padding-left: 0.2em;position: relative;}#sk-container-id-3 div.sk-item {position: relative;z-index: 1;}#sk-container-id-3 div.sk-parallel {display: flex;align-items: stretch;justify-content: center;background-color: white;position: relative;}#sk-container-id-3 div.sk-item::before, #sk-container-id-3 div.sk-parallel-item::before {content: \"\";position: absolute;border-left: 1px solid gray;box-sizing: border-box;top: 0;bottom: 0;left: 50%;z-index: -1;}#sk-container-id-3 div.sk-parallel-item {display: flex;flex-direction: column;z-index: 1;position: relative;background-color: white;}#sk-container-id-3 div.sk-parallel-item:first-child::after {align-self: flex-end;width: 50%;}#sk-container-id-3 div.sk-parallel-item:last-child::after {align-self: flex-start;width: 50%;}#sk-container-id-3 div.sk-parallel-item:only-child::after {width: 0;}#sk-container-id-3 div.sk-dashed-wrapped {border: 1px dashed gray;margin: 0 0.4em 0.5em 0.4em;box-sizing: border-box;padding-bottom: 0.4em;background-color: white;}#sk-container-id-3 div.sk-label label {font-family: monospace;font-weight: bold;display: inline-block;line-height: 1.2em;}#sk-container-id-3 div.sk-label-container {text-align: center;}#sk-container-id-3 div.sk-container {/* jupyter's `normalize.less` sets `[hidden] { display: none; }` but bootstrap.min.css set `[hidden] { display: none !important; }` so we also need the `!important` here to be able to override the default hidden behavior on the sphinx rendered scikit-learn.org. See: https://github.com/scikit-learn/scikit-learn/issues/21755 */display: inline-block !important;position: relative;}#sk-container-id-3 div.sk-text-repr-fallback {display: none;}</style><div id=\"sk-container-id-3\" class=\"sk-top-container\"><div class=\"sk-text-repr-fallback\"><pre>LogisticRegression()</pre><b>In a Jupyter environment, please rerun this cell to show the HTML representation or trust the notebook. <br />On GitHub, the HTML representation is unable to render, please try loading this page with nbviewer.org.</b></div><div class=\"sk-container\" hidden><div class=\"sk-item\"><div class=\"sk-estimator sk-toggleable\"><input class=\"sk-toggleable__control sk-hidden--visually\" id=\"sk-estimator-id-3\" type=\"checkbox\" checked><label for=\"sk-estimator-id-3\" class=\"sk-toggleable__label sk-toggleable__label-arrow\">LogisticRegression</label><div class=\"sk-toggleable__content\"><pre>LogisticRegression()</pre></div></div></div></div></div>"
            ]
          },
          "metadata": {},
          "execution_count": 18
        }
      ]
    },
    {
      "cell_type": "code",
      "source": [
        "logmodel.score(x_test,y_test)"
      ],
      "metadata": {
        "colab": {
          "base_uri": "https://localhost:8080/"
        },
        "id": "Yqq82zqupZqF",
        "outputId": "a350bfd2-2ff6-472a-d92c-9d9944d080d8"
      },
      "execution_count": 20,
      "outputs": [
        {
          "output_type": "execute_result",
          "data": {
            "text/plain": [
              "0.955"
            ]
          },
          "metadata": {},
          "execution_count": 20
        }
      ]
    },
    {
      "cell_type": "markdown",
      "source": [
        "##**Logistic regression had the best performance and is used to predict**"
      ],
      "metadata": {
        "id": "Ww6ZNU_Epd6c"
      }
    },
    {
      "cell_type": "code",
      "source": [
        "y_pred=logmodel.predict(x_test)"
      ],
      "metadata": {
        "id": "32o01XTSpzcc"
      },
      "execution_count": 30,
      "outputs": []
    },
    {
      "cell_type": "code",
      "source": [
        "print(y_test,y_pred)"
      ],
      "metadata": {
        "colab": {
          "base_uri": "https://localhost:8080/"
        },
        "id": "V0I3OkpOp7Ey",
        "outputId": "163a2834-c47f-49cc-fbed-8414d26685d5"
      },
      "execution_count": 31,
      "outputs": [
        {
          "output_type": "stream",
          "name": "stdout",
          "text": [
            "[3 0 2 2 2 0 0 3 3 1 1 3 0 2 3 0 3 2 2 1 0 0 3 1 2 2 3 1 3 1 1 0 2 0 1 3 0\n",
            " 0 3 3 3 1 3 3 1 3 0 1 3 1 1 3 0 3 0 3 2 2 0 3 3 1 3 2 1 2 3 2 2 2 3 2 1 0\n",
            " 1 3 2 2 1 2 3 3 3 0 0 0 2 1 2 3 1 2 2 1 0 3 3 3 0 3 1 1 2 1 3 2 2 3 2 3 3\n",
            " 0 0 1 3 3 0 0 1 0 0 3 2 2 1 1 1 1 0 2 1 3 2 3 3 3 3 2 0 1 1 2 1 3 1 3 0 0\n",
            " 2 0 1 1 1 1 3 0 0 3 1 3 2 1 3 1 2 3 3 2 1 0 3 1 2 3 3 0 2 2 3 0 2 1 0 1 2\n",
            " 1 2 0 3 3 1 1 0 2 3 0 1 2 2 0 3 3 3 1 2 3 3 3 0 0 0 2 3 3 0 0 1 3 1 3 3 3\n",
            " 0 0 2 3 3 1 0 2 0 0 0 3 2 0 2 2 1 1 0 2 3 3 0 0 1 3 3 2 3 0 3 1 1 0 2 3 3\n",
            " 2 0 0 1 2 3 2 2 3 2 1 0 3 3 2 1 3 2 2 2 1 0 2 2 1 0 0 2 2 2 2 0 1 3 0 1 2\n",
            " 3 0 2 0 1 1 3 0 0 2 3 1 2 0 2 0 3 0 3 3 2 3 1 2 2 1 1 1 0 1 0 3 1 0 3 0 0\n",
            " 1 3 0 3 1 2 0 1 3 0 2 2 1 2 1 1 0 2 0 0 3 1 2 3 2 2 0 3 2 2 1 3 2 3 3 3 0\n",
            " 2 0 3 0 1 1 2 2 1 3 1 2 0 1 2 3 0 0 1 3 0 3 0 2 2 1 1 0 2 1] [3 0 2 2 3 0 0 3 3 1 1 3 0 2 3 0 3 2 2 1 0 0 3 1 2 2 3 1 3 1 1 0 2 0 2 3 0\n",
            " 0 3 3 3 1 3 3 1 3 0 1 3 1 1 3 0 3 0 2 2 2 0 3 3 1 3 2 1 2 3 2 2 2 3 2 1 0\n",
            " 1 3 2 2 1 2 3 3 3 0 0 0 2 1 2 3 1 2 2 1 0 3 3 3 0 3 1 1 3 1 3 2 2 3 2 3 3\n",
            " 0 0 1 3 3 0 0 1 0 0 3 2 2 1 2 1 1 0 2 1 3 3 3 3 3 3 2 0 1 1 2 1 3 0 3 0 0\n",
            " 2 0 1 1 1 1 3 0 0 3 1 3 2 1 3 1 2 3 3 2 1 0 3 1 2 3 3 0 2 2 3 1 2 1 0 1 2\n",
            " 2 2 0 3 3 1 1 0 2 3 0 1 2 2 0 3 3 3 1 2 3 3 3 0 0 0 2 3 3 0 0 1 3 2 3 3 3\n",
            " 0 0 2 3 3 1 0 2 0 0 0 3 2 1 2 2 1 1 0 2 3 3 0 0 1 3 3 1 3 0 3 1 1 0 2 3 3\n",
            " 2 0 0 1 2 3 2 2 3 2 1 0 3 3 2 1 3 2 2 2 1 0 2 2 1 0 0 2 2 2 3 0 1 3 0 2 2\n",
            " 3 0 2 0 1 1 3 0 0 2 3 1 2 0 2 0 3 0 3 3 2 3 1 2 2 1 1 1 0 1 0 3 1 0 3 0 0\n",
            " 1 3 0 3 1 1 0 1 3 0 2 1 1 2 1 1 0 2 0 0 3 1 2 3 2 2 0 3 2 2 1 3 2 3 3 3 0\n",
            " 2 0 3 0 1 1 2 3 1 3 1 2 0 1 2 3 0 0 1 3 0 3 0 2 2 1 1 0 2 0]\n"
          ]
        }
      ]
    },
    {
      "cell_type": "code",
      "source": [
        "plt.plot(y_test,y_pred)"
      ],
      "metadata": {
        "colab": {
          "base_uri": "https://localhost:8080/",
          "height": 448
        },
        "id": "PP4ErmgjqIsS",
        "outputId": "3c13a57e-a69e-4c4b-f242-62246a8ff64f"
      },
      "execution_count": 32,
      "outputs": [
        {
          "output_type": "execute_result",
          "data": {
            "text/plain": [
              "[<matplotlib.lines.Line2D at 0x7fe2e24330a0>]"
            ]
          },
          "metadata": {},
          "execution_count": 32
        },
        {
          "output_type": "display_data",
          "data": {
            "text/plain": [
              "<Figure size 640x480 with 1 Axes>"
            ],
            "image/png": "[encoded data removed]"
          },
          "metadata": {}
        }
      ]
    },
    {
      "cell_type": "code",
      "source": [
        "data_test =pd.read_csv(\"test.csv\").drop('id',axis=1)\n",
        "data_test.head()"
      ],
      "metadata": {
        "id": "AfPr1V3Lq5DY",
        "outputId": "11e8fecf-dbf6-4e7f-bd9e-77132bdb2729",
        "colab": {
          "base_uri": "https://localhost:8080/",
          "height": 270
        }
      },
      "execution_count": 35,
      "outputs": [
        {
          "output_type": "execute_result",
          "data": {
            "text/plain": [
              "   battery_power  blue  clock_speed  dual_sim  fc  four_g  int_memory  m_dep  \\\n",
              "0           1043     1          1.8         1  14       0           5    0.1   \n",
              "1            841     1          0.5         1   4       1          61    0.8   \n",
              "2           1807     1          2.8         0   1       0          27    0.9   \n",
              "3           1546     0          0.5         1  18       1          25    0.5   \n",
              "4           1434     0          1.4         0  11       1          49    0.5   \n",
              "\n",
              "   mobile_wt  n_cores  pc  px_height  px_width   ram  sc_h  sc_w  talk_time  \\\n",
              "0        193        3  16        226      1412  3476    12     7          2   \n",
              "1        191        5  12        746       857  3895     6     0          7   \n",
              "2        186        3   4       1270      1366  2396    17    10         10   \n",
              "3         96        8  20        295      1752  3893    10     0          7   \n",
              "4        108        6  18        749       810  1773    15     8          7   \n",
              "\n",
              "   three_g  touch_screen  wifi  \n",
              "0        0             1     0  \n",
              "1        1             0     0  \n",
              "2        0             1     1  \n",
              "3        1             1     0  \n",
              "4        1             0     1  "
            ],
            "text/html": [
              "\n",
              "  <div id=\"df-d586de26-82d4-45f1-858d-3892b94c4a92\">\n",
              "    <div class=\"colab-df-container\">\n",
              "      <div>\n",
              "<style scoped>\n",
              "    .dataframe tbody tr th:only-of-type {\n",
              "        vertical-align: middle;\n",
              "    }\n",
              "\n",
              "    .dataframe tbody tr th {\n",
              "        vertical-align: top;\n",
              "    }\n",
              "\n",
              "    .dataframe thead th {\n",
              "        text-align: right;\n",
              "    }\n",
              "</style>\n",
              "<table border=\"1\" class=\"dataframe\">\n",
              "  <thead>\n",
              "    <tr style=\"text-align: right;\">\n",
              "      <th></th>\n",
              "      <th>battery_power</th>\n",
              "      <th>blue</th>\n",
              "      <th>clock_speed</th>\n",
              "      <th>dual_sim</th>\n",
              "      <th>fc</th>\n",
              "      <th>four_g</th>\n",
              "      <th>int_memory</th>\n",
              "      <th>m_dep</th>\n",
              "      <th>mobile_wt</th>\n",
              "      <th>n_cores</th>\n",
              "      <th>pc</th>\n",
              "      <th>px_height</th>\n",
              "      <th>px_width</th>\n",
              "      <th>ram</th>\n",
              "      <th>sc_h</th>\n",
              "      <th>sc_w</th>\n",
              "      <th>talk_time</th>\n",
              "      <th>three_g</th>\n",
              "      <th>touch_screen</th>\n",
              "      <th>wifi</th>\n",
              "    </tr>\n",
              "  </thead>\n",
              "  <tbody>\n",
              "    <tr>\n",
              "      <th>0</th>\n",
              "      <td>1043</td>\n",
              "      <td>1</td>\n",
              "      <td>1.8</td>\n",
              "      <td>1</td>\n",
              "      <td>14</td>\n",
              "      <td>0</td>\n",
              "      <td>5</td>\n",
              "      <td>0.1</td>\n",
              "      <td>193</td>\n",
              "      <td>3</td>\n",
              "      <td>16</td>\n",
              "      <td>226</td>\n",
              "      <td>1412</td>\n",
              "      <td>3476</td>\n",
              "      <td>12</td>\n",
              "      <td>7</td>\n",
              "      <td>2</td>\n",
              "      <td>0</td>\n",
              "      <td>1</td>\n",
              "      <td>0</td>\n",
              "    </tr>\n",
              "    <tr>\n",
              "      <th>1</th>\n",
              "      <td>841</td>\n",
              "      <td>1</td>\n",
              "      <td>0.5</td>\n",
              "      <td>1</td>\n",
              "      <td>4</td>\n",
              "      <td>1</td>\n",
              "      <td>61</td>\n",
              "      <td>0.8</td>\n",
              "      <td>191</td>\n",
              "      <td>5</td>\n",
              "      <td>12</td>\n",
              "      <td>746</td>\n",
              "      <td>857</td>\n",
              "      <td>3895</td>\n",
              "      <td>6</td>\n",
              "      <td>0</td>\n",
              "      <td>7</td>\n",
              "      <td>1</td>\n",
              "      <td>0</td>\n",
              "      <td>0</td>\n",
              "    </tr>\n",
              "    <tr>\n",
              "      <th>2</th>\n",
              "      <td>1807</td>\n",
              "      <td>1</td>\n",
              "      <td>2.8</td>\n",
              "      <td>0</td>\n",
              "      <td>1</td>\n",
              "      <td>0</td>\n",
              "      <td>27</td>\n",
              "      <td>0.9</td>\n",
              "      <td>186</td>\n",
              "      <td>3</td>\n",
              "      <td>4</td>\n",
              "      <td>1270</td>\n",
              "      <td>1366</td>\n",
              "      <td>2396</td>\n",
              "      <td>17</td>\n",
              "      <td>10</td>\n",
              "      <td>10</td>\n",
              "      <td>0</td>\n",
              "      <td>1</td>\n",
              "      <td>1</td>\n",
              "    </tr>\n",
              "    <tr>\n",
              "      <th>3</th>\n",
              "      <td>1546</td>\n",
              "      <td>0</td>\n",
              "      <td>0.5</td>\n",
              "      <td>1</td>\n",
              "      <td>18</td>\n",
              "      <td>1</td>\n",
              "      <td>25</td>\n",
              "      <td>0.5</td>\n",
              "      <td>96</td>\n",
              "      <td>8</td>\n",
              "      <td>20</td>\n",
              "      <td>295</td>\n",
              "      <td>1752</td>\n",
              "      <td>3893</td>\n",
              "      <td>10</td>\n",
              "      <td>0</td>\n",
              "      <td>7</td>\n",
              "      <td>1</td>\n",
              "      <td>1</td>\n",
              "      <td>0</td>\n",
              "    </tr>\n",
              "    <tr>\n",
              "      <th>4</th>\n",
              "      <td>1434</td>\n",
              "      <td>0</td>\n",
              "      <td>1.4</td>\n",
              "      <td>0</td>\n",
              "      <td>11</td>\n",
              "      <td>1</td>\n",
              "      <td>49</td>\n",
              "      <td>0.5</td>\n",
              "      <td>108</td>\n",
              "      <td>6</td>\n",
              "      <td>18</td>\n",
              "      <td>749</td>\n",
              "      <td>810</td>\n",
              "      <td>1773</td>\n",
              "      <td>15</td>\n",
              "      <td>8</td>\n",
              "      <td>7</td>\n",
              "      <td>1</td>\n",
              "      <td>0</td>\n",
              "      <td>1</td>\n",
              "    </tr>\n",
              "  </tbody>\n",
              "</table>\n",
              "</div>\n",
              "      <button class=\"colab-df-convert\" onclick=\"convertToInteractive('df-d586de26-82d4-45f1-858d-3892b94c4a92')\"\n",
              "              title=\"Convert this dataframe to an interactive table.\"\n",
              "              style=\"display:none;\">\n",
              "        \n",
              "  <svg xmlns=\"http://www.w3.org/2000/svg\" height=\"24px\"viewBox=\"0 0 24 24\"\n",
              "       width=\"24px\">\n",
              "    <path d=\"M0 0h24v24H0V0z\" fill=\"none\"/>\n",
              "    <path d=\"M18.56 5.44l.94 2.06.94-2.06 2.06-.94-2.06-.94-.94-2.06-.94 2.06-2.06.94zm-11 1L8.5 8.5l.94-2.06 2.06-.94-2.06-.94L8.5 2.5l-.94 2.06-2.06.94zm10 10l.94 2.06.94-2.06 2.06-.94-2.06-.94-.94-2.06-.94 2.06-2.06.94z\"/><path d=\"M17.41 7.96l-1.37-1.37c-.4-.4-.92-.59-1.43-.59-.52 0-1.04.2-1.43.59L10.3 9.45l-7.72 7.72c-.78.78-.78 2.05 0 2.83L4 21.41c.39.39.9.59 1.41.59.51 0 1.02-.2 1.41-.59l7.78-7.78 2.81-2.81c.8-.78.8-2.07 0-2.86zM5.41 20L4 18.59l7.72-7.72 1.47 1.35L5.41 20z\"/>\n",
              "  </svg>\n",
              "      </button>\n",
              "      \n",
              "  <style>\n",
              "    .colab-df-container {\n",
              "      display:flex;\n",
              "      flex-wrap:wrap;\n",
              "      gap: 12px;\n",
              "    }\n",
              "\n",
              "    .colab-df-convert {\n",
              "      background-color: #E8F0FE;\n",
              "      border: none;\n",
              "      border-radius: 50%;\n",
              "      cursor: pointer;\n",
              "      display: none;\n",
              "      fill: #1967D2;\n",
              "      height: 32px;\n",
              "      padding: 0 0 0 0;\n",
              "      width: 32px;\n",
              "    }\n",
              "\n",
              "    .colab-df-convert:hover {\n",
              "      background-color: #E2EBFA;\n",
              "      box-shadow: 0px 1px 2px rgba(60, 64, 67, 0.3), 0px 1px 3px 1px rgba(60, 64, 67, 0.15);\n",
              "      fill: #174EA6;\n",
              "    }\n",
              "\n",
              "    [theme=dark] .colab-df-convert {\n",
              "      background-color: #3B4455;\n",
              "      fill: #D2E3FC;\n",
              "    }\n",
              "\n",
              "    [theme=dark] .colab-df-convert:hover {\n",
              "      background-color: #434B5C;\n",
              "      box-shadow: 0px 1px 3px 1px rgba(0, 0, 0, 0.15);\n",
              "      filter: drop-shadow(0px 1px 2px rgba(0, 0, 0, 0.3));\n",
              "      fill: #FFFFFF;\n",
              "    }\n",
              "  </style>\n",
              "\n",
              "      <script>\n",
              "        const buttonEl =\n",
              "          document.querySelector('#df-d586de26-82d4-45f1-858d-3892b94c4a92 button.colab-df-convert');\n",
              "        buttonEl.style.display =\n",
              "          google.colab.kernel.accessAllowed ? 'block' : 'none';\n",
              "\n",
              "        async function convertToInteractive(key) {\n",
              "          const element = document.querySelector('#df-d586de26-82d4-45f1-858d-3892b94c4a92');\n",
              "          const dataTable =\n",
              "            await google.colab.kernel.invokeFunction('convertToInteractive',\n",
              "                                                     [key], {});\n",
              "          if (!dataTable) return;\n",
              "\n",
              "          const docLinkHtml = 'Like what you see? Visit the ' +\n",
              "            '<a target=\"_blank\" href=https://colab.research.google.com/notebooks/data_table.ipynb>data table notebook</a>'\n",
              "            + ' to learn more about interactive tables.';\n",
              "          element.innerHTML = '';\n",
              "          dataTable['output_type'] = 'display_data';\n",
              "          await google.colab.output.renderOutput(dataTable, element);\n",
              "          const docLink = document.createElement('div');\n",
              "          docLink.innerHTML = docLinkHtml;\n",
              "          element.appendChild(docLink);\n",
              "        }\n",
              "      </script>\n",
              "    </div>\n",
              "  </div>\n",
              "  "
            ]
          },
          "metadata": {},
          "execution_count": 35
        }
      ]
    },
    {
      "cell_type": "code",
      "source": [
        "predicted_price=lm.predict(data_test.values)"
      ],
      "metadata": {
        "id": "W7d6YhbhrZHr"
      },
      "execution_count": 40,
      "outputs": []
    },
    {
      "cell_type": "code",
      "source": [
        "predicted_price"
      ],
      "metadata": {
        "id": "-WaDKqftrvv4",
        "outputId": "e168d655-f1df-4335-8deb-d161928a458c",
        "colab": {
          "base_uri": "https://localhost:8080/"
        }
      },
      "execution_count": 41,
      "outputs": [
        {
          "output_type": "execute_result",
          "data": {
            "text/plain": [
              "array([4008.37860372, 4391.79816052, 3196.7000849 , 4604.8274245 ,\n",
              "       2341.14463913, 4121.07712159, 4699.32387239, 2118.66657773,\n",
              "       4012.08776616, 1141.71465456, 4543.02431429, 4557.80368883,\n",
              "        989.35820699, 1542.37848844, 3294.48979187, 1244.49888414,\n",
              "       2851.68460561, 2590.06709069, 4515.60901543, 3005.30877651,\n",
              "       1910.70407684, 3932.8884861 , 2331.27121004, 2708.1353795 ,\n",
              "       4515.50825032, 1088.73531422, 3135.02176312,  951.71933496,\n",
              "       4244.57225817, 1254.8297741 , 3178.73706339, 1404.48894243,\n",
              "       3860.89628481, 1328.89857628, 1523.51148246, 2159.91398208,\n",
              "       3976.71645665, 2349.2930291 , 3583.59345694, 2526.47576548,\n",
              "       1870.0795836 , 3195.33278747, 1056.59395093,  783.31851679,\n",
              "        973.20655337, 1821.69946595, 1802.09135152, 3494.28985541,\n",
              "       2290.75580589, 3325.82473254, 2827.30388696, 1212.36979999,\n",
              "       3515.66343278, 1776.7696725 , 4243.74727952, 1815.94112304,\n",
              "       4013.33357106, 2092.76942264, 2075.09380359, 4370.57084666,\n",
              "       4319.84862161, 4268.21476281, 1685.62630582, 2723.80323631,\n",
              "       1795.7370995 , 2387.58694067, 2206.51293009, 3646.56495072,\n",
              "       2307.17453571, 2524.4412729 , 2402.86867487, 2770.63939323,\n",
              "       3261.46254837, 4341.9823258 , 4207.09850354,  974.59731838,\n",
              "       3316.89717868, 1213.90533323, 3016.95808479, 4605.38190745,\n",
              "       1683.81273612, 4409.45982412, 4563.44558046, 1304.68703568,\n",
              "       4484.68873267, 1152.87360038, 4416.56580362, 2107.9562838 ,\n",
              "       3681.34188139, 1520.81083046, 2246.8463195 , 2595.32439729,\n",
              "       3450.48508393, 1165.80038723, 3279.51771476, 2671.36905523,\n",
              "       1427.14431221, 3058.47904687, 2326.52899387, 3638.8767288 ,\n",
              "       2350.05510914, 1341.4228772 ,  836.89333944, 3678.63719965,\n",
              "       2014.50547859, 3230.39785415, 1402.65024004, 1899.05627182,\n",
              "       3265.79475948, 4455.12465526, 4447.88365818, 3919.23259365,\n",
              "       2202.24786565, 4610.74927967, 3956.98556974, 4237.6148407 ,\n",
              "       4385.69541839, 2560.09096357, 4166.59059342, 1348.90011469,\n",
              "        834.98395675, 4178.87474924, 3165.45526597, 2388.54463769,\n",
              "       2697.1097105 , 1160.20101495, 4207.72508986, 3410.05431187,\n",
              "       3745.42681808, 2090.85877834,  674.00526524, 2593.75398216,\n",
              "       2433.15843928, 2527.00934295, 3816.67573791, 2005.53664819,\n",
              "       2680.18551787,  996.02625626, 4529.2448852 , 3422.52897405,\n",
              "       2536.12342191, 3689.80628899, 2890.32626818, 3139.24461492,\n",
              "       4120.10707738, 4139.88264491, 3989.68954503, 3610.79690407,\n",
              "       2906.65771237, 4469.75698751, 3731.15040541, 4059.35778907,\n",
              "       1559.11069202, 1630.70247626, 3508.55116313, 3094.00665662,\n",
              "       4910.01342975, 4130.9631087 , 4004.57071016, 4402.69411569,\n",
              "       3404.89988056, 3378.12770652, 4353.1349167 , 3760.18301304,\n",
              "       3795.66192824, 4398.96584154, 1783.43734899,  846.84121562,\n",
              "       4313.23041137,  901.30369923,  785.15658398, 1370.46226223,\n",
              "       2584.22848399, 1369.47620466,  773.69916007, 2651.42217241,\n",
              "       1709.29074909, 1073.67616747, 2328.89455075, 3252.73386079,\n",
              "       1497.70933432,  802.83854875, 1669.14821351, 1584.43206324,\n",
              "       3040.93663224, 3410.17281981, 2844.34585419, 2103.93788105,\n",
              "        939.79760793, 1420.29651026,  835.27394508, 1336.55354127,\n",
              "       1346.93404436, 4119.64770837, 2322.42523459, 1681.76870743,\n",
              "       3471.4757558 , 2887.34110769, 3529.2876914 , 3811.55628626,\n",
              "       2061.35652155, 3088.42160617, 3663.66338607, 3808.59842019,\n",
              "       3841.08379684, 2485.04784957, 3095.53335483, 1788.94960004,\n",
              "       1630.51883276, 1791.11732778, 2480.72245338, 3457.33884021,\n",
              "       1893.19244937, 3404.46790426, 4019.06753831, 4052.26783412,\n",
              "       1483.85018348, 3317.62819894, 1412.03718074, 4309.23928856,\n",
              "       3082.6415227 , 3574.24615019, 3640.79424434, 1593.11847901,\n",
              "        937.09977537, 2075.71959464, 1085.85576992, 4404.06340047,\n",
              "       1059.11190157, 2557.87495981, 1038.62213463, 3342.56822595,\n",
              "       2893.11882007, 2040.59168569, 3684.65024026, 1527.30707431,\n",
              "       4063.30079909, 1381.56091155, 4572.95465993, 2201.84731228,\n",
              "       3004.6631638 ,  753.66797511,  901.4067164 , 3430.88078971,\n",
              "       1961.0115695 , 3656.83702859, 3442.95213527, 4064.19670413,\n",
              "       2236.37980567, 2422.23568111, 4259.39345244, 1210.44106511,\n",
              "       1082.95193515, 3552.71258737, 3929.83734424, 4380.33441184,\n",
              "       2465.62630069, 4285.64309072, 2312.21396446, 1425.98527356,\n",
              "       3899.92666374, 3108.98438214, 2309.57252855, 3594.2103409 ,\n",
              "       4625.45294058, 4151.32284616, 4597.62086904, 2215.67677921,\n",
              "       1246.55494105, 2159.18198671, 2727.87943578, 3903.30808661,\n",
              "       2689.44204261, 2419.72358978, 4603.85996392, 2954.9560102 ,\n",
              "       1372.912916  , 3939.20931854, 1705.94938072, 2017.00272332,\n",
              "       3284.43045321, 1550.17015432,  644.68622043, 4763.33109664,\n",
              "       3414.86494576, 3992.69217324, 3624.61439083, 3313.01264529,\n",
              "       1914.09749715, 4067.91491467, 3441.55539   , 3118.87618406,\n",
              "       4167.3297603 , 2975.07518641, 3164.77893988, 1914.62980927,\n",
              "       2466.5550237 , 1460.4954676 , 3500.42473588, 4543.910688  ,\n",
              "       2119.85602509, 1278.71552406, 1353.5638961 , 4047.84255907,\n",
              "       1499.40497072, 4477.95904729, 1664.7963226 , 2068.10389709,\n",
              "       2698.38141259,  985.42058338, 2954.64753582, 4334.71679739,\n",
              "       2282.40468899, 3932.7379855 , 2689.48041393, 3299.98107352,\n",
              "       1885.48722005, 3367.37545484, 1410.92774044, 1216.075297  ,\n",
              "        915.43583445, 1920.43967467, 3847.63950601, 2827.98615512,\n",
              "       1404.35388068, 1348.40088873,  636.31323037, 4413.40928627,\n",
              "       2763.01589919, 1830.50993169, 3624.30696943, 4382.84482044,\n",
              "       1909.43677392, 3739.4068083 , 3842.3588246 , 3242.0614662 ,\n",
              "       4598.56384285, 2161.77967374, 4467.5097031 , 4381.49788645,\n",
              "       3173.49022074, 3402.70027565, 3604.47367283, 4216.14147067,\n",
              "       3981.40257714, 1105.9193896 , 4523.97779139, 1791.44336885,\n",
              "       4060.1965531 , 2285.29631996, 3861.75647726, 2486.68559399,\n",
              "       4141.25096631, 4004.27877905, 1372.21787182, 2321.80572575,\n",
              "       1960.91895883, 4234.46716956, 2196.51704529, 4095.1017005 ,\n",
              "       2578.50198684, 4474.12771967, 1010.78201729, 1049.80728263,\n",
              "       1651.45361359, 1359.31819693, 3420.38727087, 1068.87028227,\n",
              "       1792.14167245, 2537.59799391, 2571.97444625, 1995.88826141,\n",
              "       2683.13450377, 3547.95904156, 3385.06391043, 1010.76434101,\n",
              "       2364.93566552, 1512.99962096, 1491.37485929, 3761.46231303,\n",
              "       3502.21779937, 1816.05238621, 4110.89808135, 2415.92984592,\n",
              "       3049.45898209, 3341.20862851, 2582.04805582, 2672.13614815,\n",
              "       4318.81960792, 2357.43725696, 2089.58802267, 3562.17473683,\n",
              "       3295.06968154, 2427.88808317, 3131.87981102,  566.03286772,\n",
              "       2064.71052694, 1899.05861396, 1518.2493746 , 3971.04803067,\n",
              "       3185.67447376, 1732.11148007,  997.28753726, 2696.25557241,\n",
              "        972.80182153, 1158.36282608, 1925.03735391, 1611.16136387,\n",
              "        940.43648844, 1562.53872498, 1210.83258569, 3124.50395362,\n",
              "       3106.15151659, 4650.60640272, 3025.72928956, 4285.70056664,\n",
              "       1177.35997301, 4305.89832803, 1937.63974868, 4138.13971366,\n",
              "       1725.20801866, 2449.6595459 , 1770.7017268 , 2080.02447628,\n",
              "       2890.79962026, 1062.96296499, 3759.44653582, 3406.88130857,\n",
              "       4219.26227537, 3883.25667544, 1930.09617752, 3796.80514864,\n",
              "       2458.70689042, 4002.20219397, 2531.19805704, 4145.35965436,\n",
              "       3174.57048869, 1949.22763108, 3004.24130863, 2987.41717981,\n",
              "       2745.37858917, 2385.43782631,  908.24513817, 1058.48102728,\n",
              "       1602.69337923, 2256.56369385, 2926.37754679, 2093.14543356,\n",
              "       1662.42113359, 4200.11905548, 3463.6219473 , 1888.49765491,\n",
              "       3655.38446544, 3684.19227325,  850.59581991, 1514.0192273 ,\n",
              "       3686.46163811, 2470.90377578, 2259.90585306, 1046.42029159,\n",
              "       3695.29339282, 3241.11954286, 4170.82660564, 1482.81127819,\n",
              "       3768.92508716, 1829.79769349, 2982.35888572, 4034.87029905,\n",
              "       3634.60106382, 3822.64759491, 1750.67437484, 2966.62535058,\n",
              "       1093.64688693, 2867.51269996, 3630.50172824,  961.69225196,\n",
              "       2569.65608501, 2377.61507622, 1249.63433907,  937.9897981 ,\n",
              "       2459.90238297, 2281.76371079, 2778.32028308, 3899.86900558,\n",
              "       4189.57726331, 3934.51385926, 3254.16981348, 3807.52231822,\n",
              "       2268.68675105, 2666.93048893, 3232.81566978, 3566.2301394 ,\n",
              "       4203.61386505, 4516.52504325, 2679.3518973 , 1857.78323388,\n",
              "       3810.87971508, 2949.52781827, 2838.51598956, 3287.16135706,\n",
              "       2125.33826192, 1060.96899141, 2981.2447162 , 3534.69245444,\n",
              "       1087.31136046, 1889.25383673, 1214.59042852, 4629.6147241 ,\n",
              "       2161.06010182, 1725.78688053, 3726.42092304, 3023.04769663,\n",
              "       3400.7014979 , 1556.58503349, 4421.9287122 , 1507.71871698,\n",
              "       3235.87558089, 3486.13401444, 1357.51286772, 4282.81438683,\n",
              "        867.34368383, 3800.86906828, 4285.39410325, 1425.8883369 ,\n",
              "       2701.12797475, 2387.82139027, 4081.04587286, 3825.05783113,\n",
              "       2392.41404347, 1649.10506706, 3127.29490885, 4113.02558592,\n",
              "       3571.79795082,  935.71739739, 3553.0709289 , 2116.7775175 ,\n",
              "       3970.57042703,  841.77865839, 4231.67818991, 4382.0389777 ,\n",
              "       1856.25069865, 3294.41069136, 3704.57388028, 3160.28720524,\n",
              "       4128.04740033,  807.55465883, 2093.95554266, 2943.21425156,\n",
              "       4363.35806458, 2104.22043643, 4538.41470223, 3488.11126416,\n",
              "       3963.08832113, 2063.41913854, 1661.78138699, 2034.24544876,\n",
              "       1194.55316212, 4308.81046419, 2369.71059618, 1154.03103564,\n",
              "       4144.35395418, 2980.14839117, 4558.42425795, 3022.59745741,\n",
              "       1566.00033103, 3888.41111293, 3999.58571383, 3844.17770222,\n",
              "       3221.56703554, 4240.47411059, 4320.08280487, 2357.89071812,\n",
              "       2760.778036  , 1820.10733832, 3530.43229586, 3947.91445184,\n",
              "       4286.32784411, 1915.48023722, 1327.29191148, 2134.04727416,\n",
              "       2062.40466526, 2576.94193557, 3324.13766452, 2767.50605705,\n",
              "       1827.88551647, 1342.23592785, 3474.94555572, 3297.27656579,\n",
              "       4758.172175  , 2834.09131277,  894.20166319, 3520.11261139,\n",
              "       2123.11454675, 4259.45070973, 3968.69742541, 1413.70763519,\n",
              "       2579.79993535, 4485.91184059, 1930.05999316, 2992.82660186,\n",
              "       2283.31824387, 1719.24256294, 1285.21022861, 1505.60363623,\n",
              "       3001.2681329 , 1984.24820529, 1161.68692635, 2139.95298993,\n",
              "       1917.24882869, 3016.89302338, 2929.29515776,  954.94403052,\n",
              "       3386.95977228, 3948.7524972 , 2259.83674395,  773.30985761,\n",
              "       4120.71306184, 1549.36228815, 1504.94750079, 4376.35368765,\n",
              "       3215.02892996,  850.69211195, 1175.45609866, 1542.12345717,\n",
              "       1365.00590456,  932.74878599, 4170.59380525,  748.10829907,\n",
              "       3922.9317752 , 1838.33777187, 4217.2442273 , 2952.13383712,\n",
              "       2361.88590729, 4324.67602509, 4002.42859422, 1500.84369471,\n",
              "       2624.63291688, 2145.5278168 , 4086.68127218, 2853.60589018,\n",
              "       3569.01798602, 2523.20521873, 1513.57737631, 3956.98285074,\n",
              "        913.47820414, 2669.33967544, 1824.42279084, 3462.66903236,\n",
              "       1630.20663866, 1863.10154488, 2106.39733576, 1898.04846309,\n",
              "       2034.19674841, 3367.23169402, 2144.20761504, 3966.55593795,\n",
              "       1756.48605537, 4620.08560056, 3221.93069272, 2926.81524599,\n",
              "       2331.52763116, 4295.59441804, 3238.78257927, 1254.43300189,\n",
              "       2376.32145411, 3707.85945447,  902.18214879, 3889.66349217,\n",
              "       4520.13408669,  938.67830081, 3072.15850425, 2268.83474088,\n",
              "       2572.91329025, 3564.11894509,  875.40543153, 4033.85587669,\n",
              "       3386.173259  ,  635.40756928, 4356.61739511, 3184.85696324,\n",
              "       4441.5974298 , 1072.95033806,  876.74535567, 4474.78257994,\n",
              "       1454.94659432, 2757.34993453, 2881.92364876, 4603.08915985,\n",
              "       3020.70225094, 2849.03746137, 2713.6600908 , 3419.56329576,\n",
              "       2343.94852335, 2553.37017298, 4095.21038051, 1575.76772678,\n",
              "       2039.12961521, 1716.93647304, 2757.19487426, 3429.07109965,\n",
              "       2611.31287209,  959.33581662,  887.15419835, 2536.46511625,\n",
              "        962.44549373, 1044.80717024, 4021.92269726, 1622.59503281,\n",
              "       2169.26663411, 2775.39738836, 1025.63276068, 1967.85116941,\n",
              "       2110.79846205, 1786.3708488 , 3662.27401596, 1142.05168741,\n",
              "       4197.86922668, 3358.75266113, 4765.38003355,  834.19686184,\n",
              "       1133.57539815, 2335.49063828, 3188.26911334, 3062.09856995,\n",
              "       2424.70511859,  971.23347387, 2111.74769886, 2781.72668934,\n",
              "        975.39832527, 2264.99263689, 2722.21855688, 1117.23130654,\n",
              "       1643.97440514, 4090.63623445, 4682.34602638, 1873.53516887,\n",
              "       3780.60030169, 2115.57608832, 3261.21680795, 4052.15722486,\n",
              "       1002.60708998, 2164.5889999 , 1375.21294249, 2640.08190123,\n",
              "       3075.55052901, 1473.94192003, 4022.18696376, 2742.10883243,\n",
              "        896.63792899, 4096.95777925, 1613.56810185, 2407.3525975 ,\n",
              "       1742.38407538, 3524.50212213, 4476.69460284, 3795.56973626,\n",
              "       2946.61904921, 3828.17528509, 1211.58457229, 4327.89606807,\n",
              "       3141.08323365, 1058.49493906, 2004.80050063, 1533.41492649,\n",
              "       3402.63773049, 4412.55682007, 2943.68805   , 1318.62890716,\n",
              "       2838.75075943, 2410.88466804, 3425.99013908, 1839.905949  ,\n",
              "        803.74793106, 3727.4542053 , 3450.69080856, 1868.34143921,\n",
              "       4121.31508555, 2293.43884955, 2802.09518705, 2428.89471077,\n",
              "       2007.57269262, 2459.8034555 , 3948.96698175, 2243.66313904,\n",
              "       2760.95212722, 2673.25677528, 3281.73686953, 1651.32963748,\n",
              "       1204.51470962, 2758.44357438, 2678.04090276, 1277.95310851,\n",
              "       3453.30938207,  742.57007297, 1121.28942398, 1699.91465994,\n",
              "       1625.04553607, 3834.67743383, 4169.61088389, 4498.83836657,\n",
              "       4536.94959531, 1380.5382498 , 2066.10915181, 2946.35879534,\n",
              "       2588.93010111, 2629.01282537, 1159.47237469,  752.97285066,\n",
              "       3581.31564048, 2510.76014653, 1215.19992929, 3114.3499859 ,\n",
              "       1404.22744977, 3329.57248572, 3502.38778921, 3466.6629101 ,\n",
              "       2717.35340776, 3205.34226619, 1122.3743516 , 2799.96283443,\n",
              "       2279.80849101, 3903.05883354, 1003.73561207, 1314.41427628,\n",
              "       4047.63986104, 2592.17192418, 4322.43905529,  838.05248588,\n",
              "       1181.07411605, 3165.98740623, 3327.52029078, 3396.31031638,\n",
              "       2020.35537026, 3536.12362744, 3965.02967069, 2520.64894103,\n",
              "        972.27518312,  990.04679721, 3422.92587288, 4427.37369143,\n",
              "       1462.57389799, 4370.54398738, 1323.64461222, 1356.1116831 ,\n",
              "       1638.90478278, 3045.86668152, 3079.79797336, 1853.85863859,\n",
              "       3286.96090723,  918.20674997, 3789.09165878, 3197.5399636 ,\n",
              "       2039.57323901, 3051.22505699, 3741.16448486, 4296.60436399,\n",
              "       1013.08172655, 2472.48267731, 2588.20402179, 3112.02797876,\n",
              "       1746.48760466, 3664.67306605, 3463.62780611,  991.63103549,\n",
              "       2502.74087645, 3980.8267832 , 2122.58422281, 2381.99510965,\n",
              "       4465.30075696, 2190.41115601, 3357.95937838, 3845.75842584,\n",
              "       2727.31956035, 2279.1764753 , 2186.77607477, 2885.06647094,\n",
              "       3905.17128505, 3893.36598871, 1283.81400192, 3527.09979921,\n",
              "       4026.20027119,  903.51773334, 3330.81545499, 4225.66020355,\n",
              "       3299.61819221, 2979.36322616, 2962.72303833, 4399.37678907,\n",
              "       3063.77104532, 1684.97033538, 2070.55708686, 3161.02652569,\n",
              "       1465.35766369, 3000.48434965, 2124.27607159, 2044.84412401,\n",
              "       2664.37015377, 3957.78161218, 2970.99715451, 2399.01067542,\n",
              "       2977.31472728, 1569.15602111, 1707.18015106, 2292.46935541,\n",
              "       4147.50740954, 1894.84239846,  896.68833779, 2720.57850446,\n",
              "       2594.88446344, 4178.40060486, 2251.43769858, 1032.50350599,\n",
              "       1110.3471129 , 3628.24830999, 3456.14393837, 3332.88140325,\n",
              "       3660.87066604,  756.57478016, 4197.04909274, 3891.43161533,\n",
              "       3367.6939106 , 2324.61795643, 4292.82290507, 1792.12429946,\n",
              "       2002.66271174, 3775.98488965, 2328.02483142, 2961.71350758,\n",
              "       1939.30379345, 2774.07471051, 3517.46489383, 3709.84504969,\n",
              "        939.15871823, 3982.03263023, 1527.40268147, 3393.86590536,\n",
              "       3699.21424672, 1394.41717494, 3612.41193671, 2600.06896609,\n",
              "       3513.11907992, 3549.86438629, 2465.96918379, 1952.48423638,\n",
              "       3540.15605466, 4224.39968493, 2229.63882647,  829.88736272,\n",
              "       2537.76757682, 2007.60272132, 3578.41175012, 2427.76935829,\n",
              "       3859.43368152, 1300.11753298, 3117.89128721, 3341.80104486,\n",
              "       1050.00269377, 3366.33579475, 4424.13017615, 3704.69219191,\n",
              "       4385.95914764, 1131.95027314, 3003.93982122, 1915.0087513 ,\n",
              "       1490.77896487, 2671.98908537, 3306.05723636, 4090.36607347,\n",
              "       3911.10622919,  611.53683562, 3513.94382346, 2711.45754756,\n",
              "       3344.16981758, 2147.61633702, 3698.88273462, 1562.65778607,\n",
              "       2070.13045521, 3685.28687739, 1120.6583783 , 2394.59234795,\n",
              "       1066.8294042 , 1334.20455599, 4904.77774634, 3321.54234348,\n",
              "       3171.78890509, 1415.65335344, 1778.06474232, 1254.35736432,\n",
              "        903.16790122, 4560.65843906, 3371.99992834, 4010.33100106,\n",
              "       3400.63869248,  698.46699337, 1055.74023963, 2757.37725908,\n",
              "       2465.13055533, 1686.70146681, 3032.88742189, 3326.70737938])"
            ]
          },
          "metadata": {},
          "execution_count": 41
        }
      ]
    }
  ]
}
